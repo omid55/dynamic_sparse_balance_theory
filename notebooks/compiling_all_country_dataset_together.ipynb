{
 "cells": [
  {
   "cell_type": "markdown",
   "metadata": {},
   "source": [
    "# Imports"
   ]
  },
  {
   "cell_type": "code",
   "execution_count": 3,
   "metadata": {},
   "outputs": [],
   "source": [
    "from __future__ import division\n",
    "from __future__ import print_function\n",
    "from __future__ import absolute_import\n",
    "\n",
    "import pandas as pd\n",
    "import numpy as np\n",
    "import datetime\n",
    "from os import listdir"
   ]
  },
  {
   "cell_type": "markdown",
   "metadata": {},
   "source": [
    "# Helper functions"
   ]
  },
  {
   "cell_type": "code",
   "execution_count": 9,
   "metadata": {},
   "outputs": [],
   "source": [
    "def process_country_dataset(file_path):\n",
    "    original_data = pd.read_csv(file_path, sep='\\t')\n",
    "\n",
    "    event_dates = []\n",
    "    for i in range(len(original_data)):\n",
    "        event_dates.append(\n",
    "            datetime.datetime.strptime(\n",
    "                original_data.iloc[i][\n",
    "                    'Event Date'], '%Y-%m-%d').date())\n",
    "    original_data['Event Date'] = event_dates\n",
    "\n",
    "    original_data.rename(index=str, columns={\n",
    "        'Event Date': 'edge_date',\n",
    "        'Source Country': 'source',\n",
    "        'Target Country': 'target',\n",
    "        'Intensity': 'weight'}, inplace=True)\n",
    "\n",
    "    data = original_data[\n",
    "        ['edge_date', 'source', 'target', 'weight']]\n",
    "\n",
    "    # Removes the messages from/to unkown or not-country origin.\n",
    "    data.dropna(inplace=True)\n",
    "\n",
    "    # Removes all self-edges.\n",
    "    sources = data['source']\n",
    "    targets = data['target']\n",
    "\n",
    "    to_be_deleted = []\n",
    "    for i in range(len(data)):\n",
    "        if sources[i] == targets[i]:\n",
    "            to_be_deleted.append(i)\n",
    "    data.drop(data.index[to_be_deleted], inplace=True)\n",
    "\n",
    "    return data"
   ]
  },
  {
   "cell_type": "markdown",
   "metadata": {},
   "source": [
    "# Parameters"
   ]
  },
  {
   "cell_type": "code",
   "execution_count": 11,
   "metadata": {},
   "outputs": [],
   "source": [
    "dataset_directory_path = '/home/omid/Datasets/CountryDataset'"
   ]
  },
  {
   "cell_type": "markdown",
   "metadata": {},
   "source": [
    "# Data loading"
   ]
  },
  {
   "cell_type": "code",
   "execution_count": null,
   "metadata": {},
   "outputs": [
    {
     "name": "stdout",
     "output_type": "stream",
     "text": [
      "Processing  events.1995.20150313082510.tab  ...\n"
     ]
    },
    {
     "name": "stderr",
     "output_type": "stream",
     "text": [
      "/home/omid/.local/lib/python3.5/site-packages/ipykernel_launcher.py:22: SettingWithCopyWarning: \n",
      "A value is trying to be set on a copy of a slice from a DataFrame\n",
      "\n",
      "See the caveats in the documentation: http://pandas.pydata.org/pandas-docs/stable/indexing.html#indexing-view-versus-copy\n",
      "/home/omid/.local/lib/python3.5/site-packages/ipykernel_launcher.py:32: SettingWithCopyWarning: \n",
      "A value is trying to be set on a copy of a slice from a DataFrame\n",
      "\n",
      "See the caveats in the documentation: http://pandas.pydata.org/pandas-docs/stable/indexing.html#indexing-view-versus-copy\n"
     ]
    },
    {
     "name": "stdout",
     "output_type": "stream",
     "text": [
      "Processing  events.1996.20150313082528.tab  ...\n",
      "Processing  events.1997.20150313082554.tab  ...\n",
      "Processing  events.1998.20150313082622.tab  ...\n",
      "Processing  events.1999.20150313082705.tab  ...\n",
      "Processing  events.2000.20150313082808.tab  ...\n",
      "Processing  events.2001.20150313082922.tab  ...\n",
      "Processing  events.2002.20150313083053.tab  ...\n",
      "Processing  events.2003.20150313083228.tab  ...\n",
      "Processing  events.2004.20150313083407.tab  ...\n",
      "Processing  events.2005.20150313083555.tab  ...\n",
      "Processing  events.2006.20150313083752.tab  ...\n",
      "Processing  events.2007.20150313083959.tab  ...\n",
      "Processing  events.2008.20150313084156.tab  ...\n",
      "Processing  events.2009.20150313084349.tab  ...\n",
      "Processing  events.2010.20150313084533.tab  ...\n",
      "Processing  events.2011.20150313084656.tab  ...\n",
      "Processing  events.2012.20150313084811.tab  ...\n",
      "Processing  events.2013.20150313084929.tab  ...\n",
      "Processing  events.2014.20160121105408.tab  ...\n"
     ]
    }
   ],
   "source": [
    "full_data = []\n",
    "for filepath in sorted(\n",
    "    [f for f in listdir(dataset_directory_path)\n",
    "     if f.endswith('.tab')]):\n",
    "    print('Processing ', filepath, ' ...')\n",
    "    data = process_country_dataset(\n",
    "        dataset_directory_path + '/' + filepath)\n",
    "    full_data.extend(data)"
   ]
  },
  {
   "cell_type": "code",
   "execution_count": null,
   "metadata": {},
   "outputs": [],
   "source": [
    "# print('How many edges are given from a source to target more than once over time: ',\n",
    "#           len(np.where(data[['source', 'target']].duplicated())[0]))"
   ]
  }
 ],
 "metadata": {
  "kernelspec": {
   "display_name": "Python 3",
   "language": "python",
   "name": "python3"
  },
  "language_info": {
   "codemirror_mode": {
    "name": "ipython",
    "version": 3
   },
   "file_extension": ".py",
   "mimetype": "text/x-python",
   "name": "python",
   "nbconvert_exporter": "python",
   "pygments_lexer": "ipython3",
   "version": "3.5.2"
  }
 },
 "nbformat": 4,
 "nbformat_minor": 2
}
